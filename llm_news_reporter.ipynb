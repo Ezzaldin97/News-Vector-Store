{
 "cells": [
  {
   "cell_type": "code",
   "execution_count": 1,
   "metadata": {},
   "outputs": [
    {
     "name": "stderr",
     "output_type": "stream",
     "text": [
      "c:\\Users\\hp\\AppData\\Local\\pypoetry\\Cache\\virtualenvs\\llm-data-generator-vX9nrdqr-py3.10\\lib\\site-packages\\tqdm\\auto.py:21: TqdmWarning: IProgress not found. Please update jupyter and ipywidgets. See https://ipywidgets.readthedocs.io/en/stable/user_install.html\n",
      "  from .autonotebook import tqdm as notebook_tqdm\n"
     ]
    }
   ],
   "source": [
    "from transformers import AutoModel, AutoTokenizer\n",
    "from langchain.llms import OpenAI\n",
    "from langchain.prompts import PromptTemplate\n",
    "from langchain.chains import LLMChain\n",
    "from qdrant_client import QdrantClient\n",
    "from dotenv import dotenv_values\n",
    "import yaml\n",
    "\n",
    "DBPATH = \"data/db/\"\n",
    "with open(\"config.yml\") as yml:\n",
    "    conf = yaml.safe_load(yml)\n",
    "ENV = dotenv_values(\".env\")\n",
    "encoder = \"sts/paraphrase-multilingual-MiniLM-L12-v2\""
   ]
  },
  {
   "cell_type": "code",
   "execution_count": 2,
   "metadata": {},
   "outputs": [],
   "source": [
    "encoder_tokenizer = AutoTokenizer.from_pretrained(encoder)\n",
    "encoder_model = AutoModel.from_pretrained(encoder)"
   ]
  },
  {
   "cell_type": "code",
   "execution_count": 3,
   "metadata": {},
   "outputs": [],
   "source": [
    "client = QdrantClient(url = ENV[\"QDRANT_URL\"], location=DBPATH, timeout=50)"
   ]
  },
  {
   "cell_type": "code",
   "execution_count": 35,
   "metadata": {},
   "outputs": [],
   "source": [
    "# first search\n",
    "query = 'كرة القدم'\n",
    "inputs = encoder_tokenizer(\n",
    "    text=query,\n",
    "    padding=True,\n",
    "    truncation=True,\n",
    "    return_tensors=\"pt\",\n",
    "    max_length=conf[\"vector_size\"]\n",
    ")\n",
    "results = encoder_model(**inputs)\n",
    "embeddings = results.last_hidden_state[:, 0, :].cpu().detach().numpy()\n",
    "embeddings = embeddings.flatten().tolist()\n",
    "\n",
    "query_results = client.search(\n",
    "    collection_name=\"prod\",\n",
    "    query_vector=embeddings,\n",
    "    with_payload=[\"description\"],\n",
    "    limit=3\n",
    ")"
   ]
  },
  {
   "cell_type": "code",
   "execution_count": 36,
   "metadata": {},
   "outputs": [
    {
     "data": {
      "text/plain": [
       "[ScoredPoint(id='44620bd9-e266-c639-e5a0-b81645f5a941', version=14, score=0.62364066, payload={'description': 'انطلق أول مران لفريق الكرة بالنادي الأهلي منذ قليل ملعب جامعة بريتوريا، استعدادا لمباراة صن داونز التي تقام في الثالثة من عصر بعد غد'}, vector=None),\n",
       " ScoredPoint(id='f0b6282b-6f0c-20d5-6c60-a8d1510dbfc7', version=11, score=0.6233935, payload={'description': 'في كل عام يتنافس أفضل لاعبى كرة القدم للحصول على واحدة من الجوائز الفردية الأبرز وهي الكرة الذهبية، التي تمنحها مجلة فرانس فوتبول فى حفل سنوي.'}, vector=None),\n",
       " ScoredPoint(id='d4fdd71d-69b3-8b2f-4e65-75e527c45e78', version=2, score=0.6089852, payload={'description': 'أكد...'}, vector=None)]"
      ]
     },
     "execution_count": 36,
     "metadata": {},
     "output_type": "execute_result"
    }
   ],
   "source": [
    "query_results"
   ]
  },
  {
   "cell_type": "code",
   "execution_count": 37,
   "metadata": {},
   "outputs": [],
   "source": [
    "prompt_template = \"\"\"\n",
    "Context:\n",
    "{context}\n",
    "\n",
    "Instructions:\n",
    "Answer the following Question Using the Context provided: {question}\n",
    "\n",
    "---\n",
    "\n",
    "[User prompt or input for the model goes here.]\n",
    "\n",
    "\"\"\"\n",
    "prompt = PromptTemplate(template=prompt_template, input_variables=[\"context\", \"question\"])"
   ]
  },
  {
   "cell_type": "code",
   "execution_count": 42,
   "metadata": {},
   "outputs": [],
   "source": [
    "context = query_results[0].payload['description']\n",
    "question = \"ما هى أخر أخبار الرياضة؟\""
   ]
  },
  {
   "cell_type": "code",
   "execution_count": 43,
   "metadata": {},
   "outputs": [
    {
     "data": {
      "text/plain": [
       "'انطلق أول مران لفريق الكرة بالنادي الأهلي منذ قليل ملعب جامعة بريتوريا، استعدادا لمباراة صن داونز التي تقام في الثالثة من عصر بعد غد'"
      ]
     },
     "execution_count": 43,
     "metadata": {},
     "output_type": "execute_result"
    }
   ],
   "source": [
    "context"
   ]
  },
  {
   "cell_type": "code",
   "execution_count": 27,
   "metadata": {},
   "outputs": [
    {
     "name": "stderr",
     "output_type": "stream",
     "text": [
      "c:\\Users\\hp\\AppData\\Local\\pypoetry\\Cache\\virtualenvs\\llm-data-generator-vX9nrdqr-py3.10\\lib\\site-packages\\langchain\\llms\\openai.py:216: UserWarning: You are trying to use a chat model. This way of initializing it is no longer supported. Instead, please use: `from langchain.chat_models import ChatOpenAI`\n",
      "  warnings.warn(\n",
      "c:\\Users\\hp\\AppData\\Local\\pypoetry\\Cache\\virtualenvs\\llm-data-generator-vX9nrdqr-py3.10\\lib\\site-packages\\langchain\\llms\\openai.py:811: UserWarning: You are trying to use a chat model. This way of initializing it is no longer supported. Instead, please use: `from langchain.chat_models import ChatOpenAI`\n",
      "  warnings.warn(\n"
     ]
    }
   ],
   "source": [
    "llm = OpenAI(openai_api_key=ENV['OPENAI_API'], model_name = \"gpt-3.5-turbo\", temperature = 0.7)"
   ]
  },
  {
   "cell_type": "code",
   "execution_count": 44,
   "metadata": {},
   "outputs": [],
   "source": [
    "llm_chain = LLMChain(prompt=prompt, llm=llm)"
   ]
  },
  {
   "cell_type": "code",
   "execution_count": 45,
   "metadata": {},
   "outputs": [
    {
     "data": {
      "text/plain": [
       "'أخر أخبار الرياضة هي أن فريق الكرة بالنادي الأهلي بدأ أول مران له في ملعب جامعة بريتوريا استعداداً لمباراة صن داونز التي ستقام بعد غد.'"
      ]
     },
     "execution_count": 45,
     "metadata": {},
     "output_type": "execute_result"
    }
   ],
   "source": [
    "llm_chain.run({'context':context, 'question':question})"
   ]
  },
  {
   "cell_type": "code",
   "execution_count": 46,
   "metadata": {},
   "outputs": [],
   "source": [
    "# first search\n",
    "query = 'الذهب'\n",
    "inputs = encoder_tokenizer(\n",
    "    text=query,\n",
    "    padding=True,\n",
    "    truncation=True,\n",
    "    return_tensors=\"pt\",\n",
    "    max_length=conf[\"vector_size\"]\n",
    ")\n",
    "results = encoder_model(**inputs)\n",
    "embeddings = results.last_hidden_state[:, 0, :].cpu().detach().numpy()\n",
    "embeddings = embeddings.flatten().tolist()\n",
    "\n",
    "query_results = client.search(\n",
    "    collection_name=\"prod\",\n",
    "    query_vector=embeddings,\n",
    "    with_payload=[\"description\"],\n",
    "    limit=3\n",
    ")"
   ]
  },
  {
   "cell_type": "code",
   "execution_count": 47,
   "metadata": {},
   "outputs": [
    {
     "data": {
      "text/plain": [
       "[ScoredPoint(id='1237d46d-e08f-0a9e-ca5c-1e5e317df123', version=12, score=0.6420081, payload={'description': 'تابعة لاتحاد الغرف التجارية المصرية، وصل سعر جرام الذهب من عيار 24 إلى 2950 جنيهاً، بينما وصل سعر …'}, vector=None),\n",
       " ScoredPoint(id='d3d21030-5836-7009-ceec-70fad6b8126d', version=2, score=0.6121622, payload={'description': 'شهدت أسعار الذهب في مصر تراجع ملحوظ بحوالي 20 جنيها للجرام، وذلك بعد ساعات محدودة من صدور قرار مجلس الوزراء بالسماح بدخول الذهب بدون جمارك والذي'}, vector=None),\n",
       " ScoredPoint(id='e9528e71-44a5-d4a1-7367-cc643fc6eff7', version=9, score=0.59381783, payload={'description': 'تشهد أسعار الذهب في البورصة العالمية انخفاضات منذ صباح اليوم وذلك بالتزامن مع اتجاه الاحتياطي الفيدرالي الأمريكي لتثبيت الفائدة عند مستوياتها 5.25 و 5.50 %،'}, vector=None)]"
      ]
     },
     "execution_count": 47,
     "metadata": {},
     "output_type": "execute_result"
    }
   ],
   "source": [
    "query_results"
   ]
  },
  {
   "cell_type": "code",
   "execution_count": 48,
   "metadata": {},
   "outputs": [],
   "source": [
    "context = query_results[0].payload['description']\n",
    "question = \"ما هى أسعار الذهب الأن؟\""
   ]
  },
  {
   "cell_type": "code",
   "execution_count": 49,
   "metadata": {},
   "outputs": [
    {
     "data": {
      "text/plain": [
       "'وصل سعر جرام الذهب من عيار 24 إلى 2950 جنيهاً.'"
      ]
     },
     "execution_count": 49,
     "metadata": {},
     "output_type": "execute_result"
    }
   ],
   "source": [
    "llm_chain.run({'context':context, 'question':question})"
   ]
  },
  {
   "cell_type": "code",
   "execution_count": 54,
   "metadata": {},
   "outputs": [],
   "source": [
    "# first search\n",
    "query = 'محمد صلاح'\n",
    "inputs = encoder_tokenizer(\n",
    "    text=query,\n",
    "    padding=True,\n",
    "    truncation=True,\n",
    "    return_tensors=\"pt\",\n",
    "    max_length=conf[\"vector_size\"]\n",
    ")\n",
    "results = encoder_model(**inputs)\n",
    "embeddings = results.last_hidden_state[:, 0, :].cpu().detach().numpy()\n",
    "embeddings = embeddings.flatten().tolist()\n",
    "\n",
    "query_results = client.search(\n",
    "    collection_name=\"prod\",\n",
    "    query_vector=embeddings,\n",
    "    with_payload=[\"description\"],\n",
    "    limit=3\n",
    ")"
   ]
  },
  {
   "cell_type": "code",
   "execution_count": 59,
   "metadata": {},
   "outputs": [],
   "source": [
    "context = query_results[1].payload['description']\n",
    "question = \"ما هى أخر أخبار محمد صلاح مع ليفربول؟\""
   ]
  },
  {
   "cell_type": "code",
   "execution_count": 60,
   "metadata": {},
   "outputs": [
    {
     "data": {
      "text/plain": [
       "'أخر أخبار محمد صلاح مع ليفربول هي أنه ينافس على جائزة أفضل لاعب من رابطة اللاعبين المحترفين في الدوري الإنجليزي عن شهر أكتوبر الماضي.'"
      ]
     },
     "execution_count": 60,
     "metadata": {},
     "output_type": "execute_result"
    }
   ],
   "source": [
    "llm_chain.run({'context':context, 'question':question})"
   ]
  },
  {
   "cell_type": "code",
   "execution_count": null,
   "metadata": {},
   "outputs": [],
   "source": []
  }
 ],
 "metadata": {
  "kernelspec": {
   "display_name": "llm-data-generator-vX9nrdqr-py3.10",
   "language": "python",
   "name": "python3"
  },
  "language_info": {
   "codemirror_mode": {
    "name": "ipython",
    "version": 3
   },
   "file_extension": ".py",
   "mimetype": "text/x-python",
   "name": "python",
   "nbconvert_exporter": "python",
   "pygments_lexer": "ipython3",
   "version": "3.10.0"
  }
 },
 "nbformat": 4,
 "nbformat_minor": 2
}
